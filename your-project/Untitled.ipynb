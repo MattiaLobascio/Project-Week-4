{
 "cells": [
  {
   "cell_type": "code",
   "execution_count": 4,
   "metadata": {},
   "outputs": [],
   "source": [
    "import pandas as pd\n",
    "import numpy as np\n",
    "from scipy import stats"
   ]
  },
  {
   "cell_type": "code",
   "execution_count": 5,
   "metadata": {},
   "outputs": [],
   "source": [
    "mgr = pd.read_csv(\"mrg.csv\")"
   ]
  },
  {
   "cell_type": "code",
   "execution_count": null,
   "metadata": {},
   "outputs": [],
   "source": [
    "def ks_full_test(df,col,dist):\n",
    "    \"\"\"\n",
    "    Computes KS test for given column of given dataframe\n",
    "    against a given theoretical distribution (to be specified naming \"stat.\" module)\n",
    "    \n",
    "    Inputs: dataframe,column,theoretical prob. distribution\n",
    "    Outputs: KS test statistic,P-value,\n",
    "    \"\"\"\n",
    "    n = df[col].size\n",
    "    #COMPUTE MEAN AND STD FROM OBSERVED DATA\n",
    "    fit_mean = np.mean(df[col])\n",
    "    fit_std = np.std(df[col])\n",
    "\n",
    "    #FIT THEORETICAL DISTRIBUTION on MEAN AND STD OBSERVED\n",
    "    theor = dist(loc=fit_mean, scale=fit_std)\n",
    "\n",
    "    #RUN KS TEST OF EmpiricalCDF VS TheoreticalCDF and RETURN TEST STAT & P_VALUE\n",
    "    KS = st.kstest(df[col],theor.cdf,N=n)\n",
    "    D = KS[0]\n",
    "    p_val = KS[1]\n",
    "    print(\"TEST STATISTIC:\", D)\n",
    "    print(\"P-VALUE:\", p_val)\n",
    "    return D, p_val, ECDF, TCDF"
   ]
  },
  {
   "cell_type": "code",
   "execution_count": null,
   "metadata": {},
   "outputs": [],
   "source": [
    "def ECDF(df,col):       \n",
    "    \"\"\"COMPUTE EDF for specified df and col\"\"\"\n",
    "    x = np.sort(df[col])\n",
    "    n = x.size\n",
    "    y = np.arange(1, n+1) / n\n",
    "    return (x,y) #EMPIRICAL CUMULATIVE DISTRIBUTION FUNCTION"
   ]
  },
  {
   "cell_type": "code",
   "execution_count": 3,
   "metadata": {},
   "outputs": [],
   "source": [
    "def TCDF(df,col,dist):\n",
    "    \"\"\"\n",
    "    COMPUTE FITTED TCDF for specified df, col and theoretical distribution\n",
    "    (to be specified naming \"stat.\" module)\n",
    "    \"\"\" \n",
    "    sorted_col = np.sort(df[col])\n",
    "    fit_mean = np.mean(df[col])\n",
    "    fit_std = np.std(df[col])\n",
    "    \n",
    "    theor = dist(loc=fit_mean, scale=fit_std)\n",
    "    TCDF = np.array(theor.cdf(sorted_col))\n",
    "    return TCDF"
   ]
  },
  {
   "cell_type": "code",
   "execution_count": null,
   "metadata": {},
   "outputs": [],
   "source": []
  }
 ],
 "metadata": {
  "kernelspec": {
   "display_name": "Python 3",
   "language": "python",
   "name": "python3"
  },
  "language_info": {
   "codemirror_mode": {
    "name": "ipython",
    "version": 3
   },
   "file_extension": ".py",
   "mimetype": "text/x-python",
   "name": "python",
   "nbconvert_exporter": "python",
   "pygments_lexer": "ipython3",
   "version": "3.6.9"
  }
 },
 "nbformat": 4,
 "nbformat_minor": 2
}
